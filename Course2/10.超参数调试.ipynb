{
 "cells": [
  {
   "cell_type": "markdown",
   "id": "f8708209-899b-45d0-9b01-515999c94420",
   "metadata": {},
   "source": [
    "### 超参数调试\n",
    "\n",
    "#### 超参数的重要性排序\n",
    "在开始调试超参数之前，我们需要知道哪些超参数是需要优先被调整的，而哪些超参数是没有必要进行调整的。\n",
    "\n",
    "不同超参数的调整对结果的影响程度是不同的。我们应该优先调整对模型影响较大的超参数。例如（按照超参数的重要性降序排列）：\n",
    "\n",
    "1.学习率$\\alpha$。  \n",
    "2.momentum梯度下降法中的$\\beta$、mini-batch size、隐藏层的神经元数等。  \n",
    "3.神经网络的层数、学习率衰减中涉及的超参数等。   \n",
    "4.adam优化算法中的$\\beta_1$,$\\beta_2$,$\\epsilon$等。  "
   ]
  },
  {
   "cell_type": "markdown",
   "id": "ef520a21-a270-4b94-86a5-394b5b7bc612",
   "metadata": {},
   "source": [
    "#### 调试\n",
    "1.随机取值\n",
    "2.精细搜索"
   ]
  }
 ],
 "metadata": {
  "kernelspec": {
   "display_name": "Python 3 (ipykernel)",
   "language": "python",
   "name": "python3"
  },
  "language_info": {
   "codemirror_mode": {
    "name": "ipython",
    "version": 3
   },
   "file_extension": ".py",
   "mimetype": "text/x-python",
   "name": "python",
   "nbconvert_exporter": "python",
   "pygments_lexer": "ipython3",
   "version": "3.10.18"
  }
 },
 "nbformat": 4,
 "nbformat_minor": 5
}
